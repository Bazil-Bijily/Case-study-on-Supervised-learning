{
 "cells": [
  {
   "cell_type": "markdown",
   "id": "a23ddf3d",
   "metadata": {},
   "source": [
    "# Case study on Supervised learning"
   ]
  },
  {
   "cell_type": "markdown",
   "id": "3a838887",
   "metadata": {},
   "source": [
    "### Do the following in the iris dataset."
   ]
  },
  {
   "cell_type": "markdown",
   "id": "5af81c2d",
   "metadata": {},
   "source": [
    "## 1. Read the dataset to the python environment."
   ]
  },
  {
   "cell_type": "code",
   "execution_count": 141,
   "id": "cc58a6a8",
   "metadata": {},
   "outputs": [],
   "source": [
    "#importing Libraries\n",
    "import numpy as np\n",
    "import pandas as pd\n",
    "import matplotlib.pyplot as plt\n",
    "import seaborn as sns"
   ]
  },
  {
   "cell_type": "code",
   "execution_count": 163,
   "id": "bdfa6d77",
   "metadata": {},
   "outputs": [],
   "source": [
    "#importing data\n",
    "data=pd.read_excel(r\"C:\\Users\\Bazil\\Downloads\\iris.xls\")"
   ]
  },
  {
   "cell_type": "code",
   "execution_count": 143,
   "id": "3be00906",
   "metadata": {},
   "outputs": [
    {
     "data": {
      "text/html": [
       "<div>\n",
       "<style scoped>\n",
       "    .dataframe tbody tr th:only-of-type {\n",
       "        vertical-align: middle;\n",
       "    }\n",
       "\n",
       "    .dataframe tbody tr th {\n",
       "        vertical-align: top;\n",
       "    }\n",
       "\n",
       "    .dataframe thead th {\n",
       "        text-align: right;\n",
       "    }\n",
       "</style>\n",
       "<table border=\"1\" class=\"dataframe\">\n",
       "  <thead>\n",
       "    <tr style=\"text-align: right;\">\n",
       "      <th></th>\n",
       "      <th>SL</th>\n",
       "      <th>SW</th>\n",
       "      <th>PL</th>\n",
       "      <th>PW</th>\n",
       "      <th>Classification</th>\n",
       "    </tr>\n",
       "  </thead>\n",
       "  <tbody>\n",
       "    <tr>\n",
       "      <th>0</th>\n",
       "      <td>5.1</td>\n",
       "      <td>3.5</td>\n",
       "      <td>1.4</td>\n",
       "      <td>0.2</td>\n",
       "      <td>Iris-setosa</td>\n",
       "    </tr>\n",
       "    <tr>\n",
       "      <th>1</th>\n",
       "      <td>4.9</td>\n",
       "      <td>3.0</td>\n",
       "      <td>1.4</td>\n",
       "      <td>0.2</td>\n",
       "      <td>Iris-setosa</td>\n",
       "    </tr>\n",
       "    <tr>\n",
       "      <th>2</th>\n",
       "      <td>NaN</td>\n",
       "      <td>3.2</td>\n",
       "      <td>1.3</td>\n",
       "      <td>0.2</td>\n",
       "      <td>Iris-setosa</td>\n",
       "    </tr>\n",
       "    <tr>\n",
       "      <th>3</th>\n",
       "      <td>4.6</td>\n",
       "      <td>3.1</td>\n",
       "      <td>1.5</td>\n",
       "      <td>0.2</td>\n",
       "      <td>Iris-setosa</td>\n",
       "    </tr>\n",
       "    <tr>\n",
       "      <th>4</th>\n",
       "      <td>5.0</td>\n",
       "      <td>3.6</td>\n",
       "      <td>1.4</td>\n",
       "      <td>0.2</td>\n",
       "      <td>Iris-setosa</td>\n",
       "    </tr>\n",
       "  </tbody>\n",
       "</table>\n",
       "</div>"
      ],
      "text/plain": [
       "    SL   SW   PL   PW Classification\n",
       "0  5.1  3.5  1.4  0.2    Iris-setosa\n",
       "1  4.9  3.0  1.4  0.2    Iris-setosa\n",
       "2  NaN  3.2  1.3  0.2    Iris-setosa\n",
       "3  4.6  3.1  1.5  0.2    Iris-setosa\n",
       "4  5.0  3.6  1.4  0.2    Iris-setosa"
      ]
     },
     "execution_count": 143,
     "metadata": {},
     "output_type": "execute_result"
    }
   ],
   "source": [
    "#viewing data\n",
    "data.head()"
   ]
  },
  {
   "cell_type": "code",
   "execution_count": 4,
   "id": "ea248d36",
   "metadata": {},
   "outputs": [
    {
     "data": {
      "text/plain": [
       "(150, 5)"
      ]
     },
     "execution_count": 4,
     "metadata": {},
     "output_type": "execute_result"
    }
   ],
   "source": [
    "#shape of the data set\n",
    "data.shape"
   ]
  },
  {
   "cell_type": "code",
   "execution_count": 5,
   "id": "530b45af",
   "metadata": {},
   "outputs": [
    {
     "data": {
      "text/html": [
       "<div>\n",
       "<style scoped>\n",
       "    .dataframe tbody tr th:only-of-type {\n",
       "        vertical-align: middle;\n",
       "    }\n",
       "\n",
       "    .dataframe tbody tr th {\n",
       "        vertical-align: top;\n",
       "    }\n",
       "\n",
       "    .dataframe thead th {\n",
       "        text-align: right;\n",
       "    }\n",
       "</style>\n",
       "<table border=\"1\" class=\"dataframe\">\n",
       "  <thead>\n",
       "    <tr style=\"text-align: right;\">\n",
       "      <th></th>\n",
       "      <th>SL</th>\n",
       "      <th>SW</th>\n",
       "      <th>PL</th>\n",
       "      <th>PW</th>\n",
       "    </tr>\n",
       "  </thead>\n",
       "  <tbody>\n",
       "    <tr>\n",
       "      <th>count</th>\n",
       "      <td>143.000000</td>\n",
       "      <td>144.000000</td>\n",
       "      <td>144.000000</td>\n",
       "      <td>150.000000</td>\n",
       "    </tr>\n",
       "    <tr>\n",
       "      <th>mean</th>\n",
       "      <td>5.855944</td>\n",
       "      <td>3.049306</td>\n",
       "      <td>3.756250</td>\n",
       "      <td>1.198667</td>\n",
       "    </tr>\n",
       "    <tr>\n",
       "      <th>std</th>\n",
       "      <td>0.828168</td>\n",
       "      <td>0.430644</td>\n",
       "      <td>1.761306</td>\n",
       "      <td>0.763161</td>\n",
       "    </tr>\n",
       "    <tr>\n",
       "      <th>min</th>\n",
       "      <td>4.300000</td>\n",
       "      <td>2.000000</td>\n",
       "      <td>1.000000</td>\n",
       "      <td>0.100000</td>\n",
       "    </tr>\n",
       "    <tr>\n",
       "      <th>25%</th>\n",
       "      <td>5.100000</td>\n",
       "      <td>2.800000</td>\n",
       "      <td>1.600000</td>\n",
       "      <td>0.300000</td>\n",
       "    </tr>\n",
       "    <tr>\n",
       "      <th>50%</th>\n",
       "      <td>5.800000</td>\n",
       "      <td>3.000000</td>\n",
       "      <td>4.350000</td>\n",
       "      <td>1.300000</td>\n",
       "    </tr>\n",
       "    <tr>\n",
       "      <th>75%</th>\n",
       "      <td>6.400000</td>\n",
       "      <td>3.300000</td>\n",
       "      <td>5.100000</td>\n",
       "      <td>1.800000</td>\n",
       "    </tr>\n",
       "    <tr>\n",
       "      <th>max</th>\n",
       "      <td>7.900000</td>\n",
       "      <td>4.400000</td>\n",
       "      <td>6.900000</td>\n",
       "      <td>2.500000</td>\n",
       "    </tr>\n",
       "  </tbody>\n",
       "</table>\n",
       "</div>"
      ],
      "text/plain": [
       "               SL          SW          PL          PW\n",
       "count  143.000000  144.000000  144.000000  150.000000\n",
       "mean     5.855944    3.049306    3.756250    1.198667\n",
       "std      0.828168    0.430644    1.761306    0.763161\n",
       "min      4.300000    2.000000    1.000000    0.100000\n",
       "25%      5.100000    2.800000    1.600000    0.300000\n",
       "50%      5.800000    3.000000    4.350000    1.300000\n",
       "75%      6.400000    3.300000    5.100000    1.800000\n",
       "max      7.900000    4.400000    6.900000    2.500000"
      ]
     },
     "execution_count": 5,
     "metadata": {},
     "output_type": "execute_result"
    }
   ],
   "source": [
    "data.describe()"
   ]
  },
  {
   "cell_type": "code",
   "execution_count": 6,
   "id": "ce1266ed",
   "metadata": {},
   "outputs": [
    {
     "name": "stdout",
     "output_type": "stream",
     "text": [
      "<class 'pandas.core.frame.DataFrame'>\n",
      "RangeIndex: 150 entries, 0 to 149\n",
      "Data columns (total 5 columns):\n",
      " #   Column          Non-Null Count  Dtype  \n",
      "---  ------          --------------  -----  \n",
      " 0   SL              143 non-null    float64\n",
      " 1   SW              144 non-null    float64\n",
      " 2   PL              144 non-null    float64\n",
      " 3   PW              150 non-null    float64\n",
      " 4   Classification  150 non-null    object \n",
      "dtypes: float64(4), object(1)\n",
      "memory usage: 6.0+ KB\n"
     ]
    }
   ],
   "source": [
    "data.info()"
   ]
  },
  {
   "cell_type": "markdown",
   "id": "5c94d048",
   "metadata": {},
   "source": [
    "## 2. Do necessary pre-processing steps."
   ]
  },
  {
   "cell_type": "code",
   "execution_count": 164,
   "id": "dfbac593",
   "metadata": {},
   "outputs": [
    {
     "data": {
      "text/plain": [
       "SL                7\n",
       "SW                6\n",
       "PL                6\n",
       "PW                0\n",
       "Classification    0\n",
       "dtype: int64"
      ]
     },
     "execution_count": 164,
     "metadata": {},
     "output_type": "execute_result"
    }
   ],
   "source": [
    "#checking null values\n",
    "data.isna().sum()"
   ]
  },
  {
   "cell_type": "code",
   "execution_count": 8,
   "id": "57de2a6a",
   "metadata": {},
   "outputs": [
    {
     "data": {
      "text/plain": [
       "<AxesSubplot:ylabel='Frequency'>"
      ]
     },
     "execution_count": 8,
     "metadata": {},
     "output_type": "execute_result"
    },
    {
     "data": {
      "image/png": "[encoded data removed]",
      "text/plain": [
       "<Figure size 432x288 with 1 Axes>"
      ]
     },
     "metadata": {
      "needs_background": "light"
     },
     "output_type": "display_data"
    }
   ],
   "source": [
    "data[\"SL\"].plot(kind=\"hist\")"
   ]
  },
  {
   "cell_type": "code",
   "execution_count": 9,
   "id": "55b07068",
   "metadata": {},
   "outputs": [
    {
     "data": {
      "text/plain": [
       "<AxesSubplot:ylabel='Frequency'>"
      ]
     },
     "execution_count": 9,
     "metadata": {},
     "output_type": "execute_result"
    },
    {
     "data": {
      "image/png": "[encoded data removed]",
      "text/plain": [
       "<Figure size 432x288 with 1 Axes>"
      ]
     },
     "metadata": {
      "needs_background": "light"
     },
     "output_type": "display_data"
    }
   ],
   "source": [
    "data[\"SW\"].plot(kind=\"hist\")"
   ]
  },
  {
   "cell_type": "code",
   "execution_count": 10,
   "id": "39bfd617",
   "metadata": {},
   "outputs": [
    {
     "data": {
      "text/plain": [
       "<AxesSubplot:ylabel='Frequency'>"
      ]
     },
     "execution_count": 10,
     "metadata": {},
     "output_type": "execute_result"
    },
    {
     "data": {
      "image/png": "[encoded data removed]",
      "text/plain": [
       "<Figure size 432x288 with 1 Axes>"
      ]
     },
     "metadata": {
      "needs_background": "light"
     },
     "output_type": "display_data"
    }
   ],
   "source": [
    "data[\"PL\"].plot(kind=\"hist\")"
   ]
  },
  {
   "cell_type": "code",
   "execution_count": 145,
   "id": "eed6c342",
   "metadata": {},
   "outputs": [],
   "source": [
    "#filling missing values with median\n",
    "data[\"SL\"]=data[\"SL\"].fillna(data[\"SL\"].median())\n",
    "data[\"SW\"]=data[\"SW\"].fillna(data[\"SW\"].median())\n",
    "data[\"PL\"]=data[\"PL\"].fillna(data[\"PL\"].median())"
   ]
  },
  {
   "cell_type": "code",
   "execution_count": 13,
   "id": "d6044f69",
   "metadata": {},
   "outputs": [
    {
     "data": {
      "text/plain": [
       "SL                0\n",
       "SW                0\n",
       "PL                0\n",
       "PW                0\n",
       "Classification    0\n",
       "dtype: int64"
      ]
     },
     "execution_count": 13,
     "metadata": {},
     "output_type": "execute_result"
    }
   ],
   "source": [
    "data.isna().sum()"
   ]
  },
  {
   "cell_type": "markdown",
   "id": "77977692",
   "metadata": {},
   "source": [
    "#### Insight"
   ]
  },
  {
   "cell_type": "markdown",
   "id": "86e0c389",
   "metadata": {},
   "source": [
    "Null values are filled"
   ]
  },
  {
   "cell_type": "code",
   "execution_count": 146,
   "id": "ef27dca2",
   "metadata": {},
   "outputs": [
    {
     "data": {
      "text/plain": [
       "Iris-virginica     50\n",
       "Iris-setosa        50\n",
       "Iris-versicolor    50\n",
       "Name: Classification, dtype: int64"
      ]
     },
     "execution_count": 146,
     "metadata": {},
     "output_type": "execute_result"
    }
   ],
   "source": [
    "data[\"Classification\"].value_counts()"
   ]
  },
  {
   "cell_type": "markdown",
   "id": "fd9a1efd",
   "metadata": {},
   "source": [
    "### Label Encoding"
   ]
  },
  {
   "cell_type": "code",
   "execution_count": 147,
   "id": "5e9f7909",
   "metadata": {},
   "outputs": [],
   "source": [
    "#performing label encoding\n",
    "from sklearn.preprocessing import LabelEncoder\n",
    "label_en=LabelEncoder()\n",
    "data[\"Classification\"]=label_en.fit_transform(data[\"Classification\"])"
   ]
  },
  {
   "cell_type": "code",
   "execution_count": 17,
   "id": "c0b6137a",
   "metadata": {},
   "outputs": [
    {
     "data": {
      "text/html": [
       "<div>\n",
       "<style scoped>\n",
       "    .dataframe tbody tr th:only-of-type {\n",
       "        vertical-align: middle;\n",
       "    }\n",
       "\n",
       "    .dataframe tbody tr th {\n",
       "        vertical-align: top;\n",
       "    }\n",
       "\n",
       "    .dataframe thead th {\n",
       "        text-align: right;\n",
       "    }\n",
       "</style>\n",
       "<table border=\"1\" class=\"dataframe\">\n",
       "  <thead>\n",
       "    <tr style=\"text-align: right;\">\n",
       "      <th></th>\n",
       "      <th>SL</th>\n",
       "      <th>SW</th>\n",
       "      <th>PL</th>\n",
       "      <th>PW</th>\n",
       "      <th>Classification</th>\n",
       "    </tr>\n",
       "  </thead>\n",
       "  <tbody>\n",
       "    <tr>\n",
       "      <th>0</th>\n",
       "      <td>5.1</td>\n",
       "      <td>3.5</td>\n",
       "      <td>1.4</td>\n",
       "      <td>0.2</td>\n",
       "      <td>0</td>\n",
       "    </tr>\n",
       "    <tr>\n",
       "      <th>1</th>\n",
       "      <td>4.9</td>\n",
       "      <td>3.0</td>\n",
       "      <td>1.4</td>\n",
       "      <td>0.2</td>\n",
       "      <td>0</td>\n",
       "    </tr>\n",
       "    <tr>\n",
       "      <th>2</th>\n",
       "      <td>5.8</td>\n",
       "      <td>3.2</td>\n",
       "      <td>1.3</td>\n",
       "      <td>0.2</td>\n",
       "      <td>0</td>\n",
       "    </tr>\n",
       "    <tr>\n",
       "      <th>3</th>\n",
       "      <td>4.6</td>\n",
       "      <td>3.1</td>\n",
       "      <td>1.5</td>\n",
       "      <td>0.2</td>\n",
       "      <td>0</td>\n",
       "    </tr>\n",
       "    <tr>\n",
       "      <th>4</th>\n",
       "      <td>5.0</td>\n",
       "      <td>3.6</td>\n",
       "      <td>1.4</td>\n",
       "      <td>0.2</td>\n",
       "      <td>0</td>\n",
       "    </tr>\n",
       "  </tbody>\n",
       "</table>\n",
       "</div>"
      ],
      "text/plain": [
       "    SL   SW   PL   PW  Classification\n",
       "0  5.1  3.5  1.4  0.2               0\n",
       "1  4.9  3.0  1.4  0.2               0\n",
       "2  5.8  3.2  1.3  0.2               0\n",
       "3  4.6  3.1  1.5  0.2               0\n",
       "4  5.0  3.6  1.4  0.2               0"
      ]
     },
     "execution_count": 17,
     "metadata": {},
     "output_type": "execute_result"
    }
   ],
   "source": [
    "data.head()"
   ]
  },
  {
   "cell_type": "code",
   "execution_count": 18,
   "id": "854bbd75",
   "metadata": {},
   "outputs": [
    {
     "data": {
      "text/plain": [
       "0    50\n",
       "1    50\n",
       "2    50\n",
       "Name: Classification, dtype: int64"
      ]
     },
     "execution_count": 18,
     "metadata": {},
     "output_type": "execute_result"
    }
   ],
   "source": [
    "data[\"Classification\"].value_counts()"
   ]
  },
  {
   "cell_type": "code",
   "execution_count": 19,
   "id": "0d4d1401",
   "metadata": {},
   "outputs": [
    {
     "name": "stdout",
     "output_type": "stream",
     "text": [
      "<class 'pandas.core.frame.DataFrame'>\n",
      "RangeIndex: 150 entries, 0 to 149\n",
      "Data columns (total 5 columns):\n",
      " #   Column          Non-Null Count  Dtype  \n",
      "---  ------          --------------  -----  \n",
      " 0   SL              150 non-null    float64\n",
      " 1   SW              150 non-null    float64\n",
      " 2   PL              150 non-null    float64\n",
      " 3   PW              150 non-null    float64\n",
      " 4   Classification  150 non-null    int32  \n",
      "dtypes: float64(4), int32(1)\n",
      "memory usage: 5.4 KB\n"
     ]
    }
   ],
   "source": [
    "data.info()"
   ]
  },
  {
   "cell_type": "markdown",
   "id": "bc5e9953",
   "metadata": {},
   "source": [
    "#### Insight"
   ]
  },
  {
   "cell_type": "markdown",
   "id": "5a26a35c",
   "metadata": {},
   "source": [
    "Dtype of Classification changed to int after label encoding"
   ]
  },
  {
   "cell_type": "markdown",
   "id": "346e58be",
   "metadata": {},
   "source": [
    "## 3. Find out which classification model gives the best result to predict iris species.(also do random forest algorithm)"
   ]
  },
  {
   "cell_type": "code",
   "execution_count": 20,
   "id": "e5847748",
   "metadata": {},
   "outputs": [],
   "source": [
    "corr=data.corr()"
   ]
  },
  {
   "cell_type": "code",
   "execution_count": 21,
   "id": "6ce1fe82",
   "metadata": {},
   "outputs": [
    {
     "data": {
      "text/plain": [
       "<AxesSubplot:>"
      ]
     },
     "execution_count": 21,
     "metadata": {},
     "output_type": "execute_result"
    },
    {
     "data": {
      "image/png": "[encoded data removed]",
      "text/plain": [
       "<Figure size 1080x576 with 2 Axes>"
      ]
     },
     "metadata": {
      "needs_background": "light"
     },
     "output_type": "display_data"
    }
   ],
   "source": [
    "plt.figure(figsize=(15,8))\n",
    "sns.heatmap(corr,cmap=\"YlGnBu\",annot=True,linewidths=0.2)"
   ]
  },
  {
   "cell_type": "code",
   "execution_count": 165,
   "id": "a63b64de",
   "metadata": {},
   "outputs": [],
   "source": [
    "#splitting data\n",
    "x=data.drop(\"Classification\",axis=1)\n",
    "y=data[\"Classification\"]"
   ]
  },
  {
   "cell_type": "code",
   "execution_count": 150,
   "id": "82984397",
   "metadata": {},
   "outputs": [],
   "source": [
    "from sklearn.model_selection import train_test_split"
   ]
  },
  {
   "cell_type": "code",
   "execution_count": 151,
   "id": "11af4e94",
   "metadata": {},
   "outputs": [],
   "source": [
    "x_train,x_test,y_train,y_test=train_test_split(x,y,test_size=0.3,random_state=42)"
   ]
  },
  {
   "cell_type": "code",
   "execution_count": 58,
   "id": "2cf8d5f2",
   "metadata": {},
   "outputs": [
    {
     "data": {
      "text/plain": [
       "(105, 4)"
      ]
     },
     "execution_count": 58,
     "metadata": {},
     "output_type": "execute_result"
    }
   ],
   "source": [
    "x_train.shape"
   ]
  },
  {
   "cell_type": "code",
   "execution_count": 59,
   "id": "9b0b9713",
   "metadata": {},
   "outputs": [
    {
     "data": {
      "text/plain": [
       "(105,)"
      ]
     },
     "execution_count": 59,
     "metadata": {},
     "output_type": "execute_result"
    }
   ],
   "source": [
    "y_train.shape"
   ]
  },
  {
   "cell_type": "code",
   "execution_count": 60,
   "id": "44db1183",
   "metadata": {},
   "outputs": [
    {
     "data": {
      "text/plain": [
       "(45, 4)"
      ]
     },
     "execution_count": 60,
     "metadata": {},
     "output_type": "execute_result"
    }
   ],
   "source": [
    "x_test.shape"
   ]
  },
  {
   "cell_type": "code",
   "execution_count": 61,
   "id": "d93748f3",
   "metadata": {},
   "outputs": [
    {
     "data": {
      "text/plain": [
       "(45,)"
      ]
     },
     "execution_count": 61,
     "metadata": {},
     "output_type": "execute_result"
    }
   ],
   "source": [
    "y_test.shape"
   ]
  },
  {
   "cell_type": "markdown",
   "id": "fdec99bf",
   "metadata": {},
   "source": [
    "## Logistic Regression"
   ]
  },
  {
   "cell_type": "code",
   "execution_count": 113,
   "id": "fa8a4847",
   "metadata": {},
   "outputs": [],
   "source": [
    "# performing Logistic Regression\n",
    "from sklearn.linear_model import LogisticRegression"
   ]
  },
  {
   "cell_type": "code",
   "execution_count": 114,
   "id": "af71708b",
   "metadata": {},
   "outputs": [],
   "source": [
    "lr_model=LogisticRegression()"
   ]
  },
  {
   "cell_type": "code",
   "execution_count": 115,
   "id": "9bcba34b",
   "metadata": {},
   "outputs": [],
   "source": [
    "lr_model.fit(x_train,y_train)\n",
    "y_pred=lr_model.predict(x_test)"
   ]
  },
  {
   "cell_type": "code",
   "execution_count": 116,
   "id": "ba87691d",
   "metadata": {},
   "outputs": [],
   "source": [
    "from sklearn.metrics import confusion_matrix, accuracy_score,precision_score, recall_score, f1_score"
   ]
  },
  {
   "cell_type": "code",
   "execution_count": 166,
   "id": "4a751c35",
   "metadata": {},
   "outputs": [
    {
     "name": "stdout",
     "output_type": "stream",
     "text": [
      "Accuracy score is  1.0\n",
      "precision_score is  1.0\n",
      "recall_score is  1.0\n",
      "f1_score is  1.0\n"
     ]
    }
   ],
   "source": [
    "print(\"Accuracy score is \",accuracy_score(y_test,y_pred))\n",
    "print(\"precision_score is \",precision_score(y_test,y_pred,average=\"macro\"))\n",
    "print(\"recall_score is \",recall_score(y_test,y_pred,average='macro'))\n",
    "print(\"f1_score is \",f1_score(y_test,y_pred,average='macro'))"
   ]
  },
  {
   "cell_type": "markdown",
   "id": "58369b63",
   "metadata": {},
   "source": [
    "#### Standard scaling"
   ]
  },
  {
   "cell_type": "code",
   "execution_count": 167,
   "id": "4c17e8ef",
   "metadata": {},
   "outputs": [],
   "source": [
    "from sklearn.preprocessing import StandardScaler\n",
    "sc= StandardScaler()\n",
    "x_train= sc.fit_transform(x_train)\n",
    "x_test=sc.fit_transform(x_test)"
   ]
  },
  {
   "cell_type": "code",
   "execution_count": 168,
   "id": "ffde4794",
   "metadata": {},
   "outputs": [],
   "source": [
    "lr_model=LogisticRegression()\n",
    "lr_model.fit(x_train,y_train)\n",
    "y_pred=lr_model.predict(x_test)"
   ]
  },
  {
   "cell_type": "code",
   "execution_count": 169,
   "id": "32a50aba",
   "metadata": {},
   "outputs": [
    {
     "name": "stdout",
     "output_type": "stream",
     "text": [
      "Accuracy score is  0.9333333333333333\n",
      "precision_score is  0.9375\n",
      "recall_score is  0.923076923076923\n",
      "f1_score is  0.9220389805097451\n"
     ]
    }
   ],
   "source": [
    "print(\"Accuracy score is \",accuracy_score(y_test,y_pred))\n",
    "print(\"precision_score is \",precision_score(y_test,y_pred,average=\"macro\"))\n",
    "print(\"recall_score is \",recall_score(y_test,y_pred,average='macro'))\n",
    "print(\"f1_score is \",f1_score(y_test,y_pred,average='macro'))"
   ]
  },
  {
   "cell_type": "markdown",
   "id": "c4b29ad1",
   "metadata": {},
   "source": [
    "#### Insight"
   ]
  },
  {
   "cell_type": "markdown",
   "id": "5f5f5114",
   "metadata": {},
   "source": [
    "After scaling accuracy get reduced."
   ]
  },
  {
   "cell_type": "markdown",
   "id": "1ed996dc",
   "metadata": {},
   "source": [
    "## KNN"
   ]
  },
  {
   "cell_type": "code",
   "execution_count": 121,
   "id": "b11869e5",
   "metadata": {},
   "outputs": [],
   "source": [
    "from sklearn.neighbors import KNeighborsClassifier"
   ]
  },
  {
   "cell_type": "code",
   "execution_count": 122,
   "id": "1a2e4d7f",
   "metadata": {},
   "outputs": [],
   "source": [
    "acc_values=[]\n",
    "neighbors=np.arange(3,5)\n",
    "for k in neighbors:\n",
    "    knn=KNeighborsClassifier(n_neighbors=k,metric=\"minkowski\")\n",
    "    knn.fit(x_train,y_train)\n",
    "    y_pred=knn.predict(x_test)\n",
    "    acc=accuracy_score(y_test,y_pred)\n",
    "    acc_values.append(acc)"
   ]
  },
  {
   "cell_type": "code",
   "execution_count": 123,
   "id": "e2e00e4f",
   "metadata": {},
   "outputs": [
    {
     "data": {
      "text/plain": [
       "1.0"
      ]
     },
     "execution_count": 123,
     "metadata": {},
     "output_type": "execute_result"
    }
   ],
   "source": [
    "acc"
   ]
  },
  {
   "cell_type": "code",
   "execution_count": 124,
   "id": "23393264",
   "metadata": {},
   "outputs": [
    {
     "name": "stdout",
     "output_type": "stream",
     "text": [
      "precision_score is  1.0\n",
      "recall_score is  1.0\n",
      "f1_score is  1.0\n"
     ]
    }
   ],
   "source": [
    "print(\"precision_score is \",precision_score(y_test,y_pred,average=\"macro\"))\n",
    "print(\"recall_score is \",recall_score(y_test,y_pred,average='macro'))\n",
    "print(\"f1_score is \",f1_score(y_test,y_pred,average='macro'))"
   ]
  },
  {
   "cell_type": "markdown",
   "id": "4d5fe079",
   "metadata": {},
   "source": [
    "#### Insight"
   ]
  },
  {
   "cell_type": "markdown",
   "id": "08691804",
   "metadata": {},
   "source": [
    "KNN have full accuracy"
   ]
  },
  {
   "cell_type": "markdown",
   "id": "63204f8b",
   "metadata": {},
   "source": [
    "## SVM"
   ]
  },
  {
   "cell_type": "markdown",
   "id": "83e2b8db",
   "metadata": {},
   "source": [
    "#### Linear"
   ]
  },
  {
   "cell_type": "code",
   "execution_count": 160,
   "id": "d1df0592",
   "metadata": {},
   "outputs": [],
   "source": [
    "from sklearn.svm import SVC\n",
    "svm_linear=SVC(kernel=\"linear\")\n",
    "svm_linear.fit(x_train,y_train)\n",
    "y_pred=svm_linear.predict(x_test)"
   ]
  },
  {
   "cell_type": "code",
   "execution_count": 161,
   "id": "35dd226e",
   "metadata": {
    "scrolled": false
   },
   "outputs": [
    {
     "name": "stdout",
     "output_type": "stream",
     "text": [
      "Accuracy score is  1.0\n",
      "precision_score is  1.0\n",
      "recall_score is  1.0\n",
      "f1_score is  1.0\n"
     ]
    }
   ],
   "source": [
    "print(\"Accuracy score is \",accuracy_score(y_test,y_pred))\n",
    "print(\"precision_score is \",precision_score(y_test,y_pred,average=\"macro\"))\n",
    "print(\"recall_score is \",recall_score(y_test,y_pred,average='macro'))\n",
    "print(\"f1_score is \",f1_score(y_test,y_pred,average='macro'))"
   ]
  },
  {
   "cell_type": "markdown",
   "id": "95cef6e1",
   "metadata": {},
   "source": [
    "#### Insight"
   ]
  },
  {
   "cell_type": "markdown",
   "id": "30181903",
   "metadata": {},
   "source": [
    "Linear SVM gave full accuracy"
   ]
  },
  {
   "cell_type": "markdown",
   "id": "ffe621f5",
   "metadata": {},
   "source": [
    "#### Polynomial"
   ]
  },
  {
   "cell_type": "code",
   "execution_count": 157,
   "id": "61811563",
   "metadata": {},
   "outputs": [],
   "source": [
    "svm_poly=SVC(kernel=\"poly\",degree=3)"
   ]
  },
  {
   "cell_type": "code",
   "execution_count": 158,
   "id": "19bc4ed0",
   "metadata": {},
   "outputs": [],
   "source": [
    "svm_poly.fit(x_train,y_train)\n",
    "y_pred=svm_poly.predict(x_test)"
   ]
  },
  {
   "cell_type": "code",
   "execution_count": 159,
   "id": "76aa74e9",
   "metadata": {},
   "outputs": [
    {
     "name": "stdout",
     "output_type": "stream",
     "text": [
      "Accuracy score is  0.9777777777777777\n",
      "precision_score is  0.9761904761904763\n",
      "recall_score is  0.9743589743589745\n",
      "f1_score is  0.974320987654321\n"
     ]
    }
   ],
   "source": [
    "print(\"Accuracy score is \",accuracy_score(y_test,y_pred))\n",
    "print(\"precision_score is \",precision_score(y_test,y_pred,average=\"macro\"))\n",
    "print(\"recall_score is \",recall_score(y_test,y_pred,average='macro'))\n",
    "print(\"f1_score is \",f1_score(y_test,y_pred,average='macro'))"
   ]
  },
  {
   "cell_type": "markdown",
   "id": "d0df053a",
   "metadata": {},
   "source": [
    "#### Radial"
   ]
  },
  {
   "cell_type": "code",
   "execution_count": 154,
   "id": "a147f670",
   "metadata": {},
   "outputs": [],
   "source": [
    "svm_radial=SVC(kernel=\"rbf\")"
   ]
  },
  {
   "cell_type": "code",
   "execution_count": 155,
   "id": "9b6f750a",
   "metadata": {},
   "outputs": [],
   "source": [
    "svm_radial.fit(x_train,y_train)\n",
    "y_pred=svm_radial.predict(x_test)"
   ]
  },
  {
   "cell_type": "code",
   "execution_count": 156,
   "id": "84ab7b07",
   "metadata": {},
   "outputs": [
    {
     "name": "stdout",
     "output_type": "stream",
     "text": [
      "Accuracy score is  0.9777777777777777\n",
      "precision_score is  0.9761904761904763\n",
      "recall_score is  0.9824561403508771\n",
      "f1_score is  0.9786453119786453\n"
     ]
    }
   ],
   "source": [
    "print(\"Accuracy score is \",accuracy_score(y_test,y_pred))\n",
    "print(\"precision_score is \",precision_score(y_test,y_pred,average=\"macro\"))\n",
    "print(\"recall_score is \",recall_score(y_test,y_pred,average='macro'))\n",
    "print(\"f1_score is \",f1_score(y_test,y_pred,average='macro'))"
   ]
  },
  {
   "cell_type": "markdown",
   "id": "22f34dac",
   "metadata": {},
   "source": [
    "#### Insight"
   ]
  },
  {
   "cell_type": "markdown",
   "id": "81a444cb",
   "metadata": {},
   "source": [
    " Linear SVM have more accuracy"
   ]
  },
  {
   "cell_type": "markdown",
   "id": "71e8c630",
   "metadata": {},
   "source": [
    "### Decision Tree"
   ]
  },
  {
   "cell_type": "code",
   "execution_count": 171,
   "id": "854f999a",
   "metadata": {},
   "outputs": [],
   "source": [
    "from sklearn.tree import DecisionTreeClassifier\n",
    "dt_model=DecisionTreeClassifier()\n",
    "dt_model.fit(x_train,y_train)\n",
    "y_pred=dt_model.predict(x_test)"
   ]
  },
  {
   "cell_type": "code",
   "execution_count": 172,
   "id": "44517608",
   "metadata": {},
   "outputs": [
    {
     "name": "stdout",
     "output_type": "stream",
     "text": [
      "Accuracy score is  0.8444444444444444\n",
      "precision_score is  0.8833333333333333\n",
      "recall_score is  0.8205128205128206\n",
      "f1_score is  0.8064859117490696\n"
     ]
    }
   ],
   "source": [
    "print(\"Accuracy score is \",accuracy_score(y_test,y_pred))\n",
    "print(\"precision_score is \",precision_score(y_test,y_pred,average=\"macro\"))\n",
    "print(\"recall_score is \",recall_score(y_test,y_pred,average='macro'))\n",
    "print(\"f1_score is \",f1_score(y_test,y_pred,average='macro'))"
   ]
  },
  {
   "cell_type": "markdown",
   "id": "befd8978",
   "metadata": {},
   "source": [
    "## Random Forest"
   ]
  },
  {
   "cell_type": "code",
   "execution_count": 152,
   "id": "b94c4f9d",
   "metadata": {},
   "outputs": [],
   "source": [
    "from sklearn.ensemble import RandomForestClassifier\n",
    "rf=RandomForestClassifier()\n",
    "rf.fit(x_train,y_train)\n",
    "y_pred=rf.predict(x_test)"
   ]
  },
  {
   "cell_type": "code",
   "execution_count": 153,
   "id": "adc1a4ba",
   "metadata": {},
   "outputs": [
    {
     "name": "stdout",
     "output_type": "stream",
     "text": [
      "Accuracy score is  1.0\n",
      "precision_score is  1.0\n",
      "recall_score is  1.0\n",
      "f1_score is  1.0\n"
     ]
    }
   ],
   "source": [
    "print(\"Accuracy score is \",accuracy_score(y_test,y_pred))\n",
    "print(\"precision_score is \",precision_score(y_test,y_pred,average=\"macro\"))\n",
    "print(\"recall_score is \",recall_score(y_test,y_pred,average='macro'))\n",
    "print(\"f1_score is \",f1_score(y_test,y_pred,average='macro'))"
   ]
  },
  {
   "cell_type": "markdown",
   "id": "4e022997",
   "metadata": {},
   "source": [
    "### Insight"
   ]
  },
  {
   "cell_type": "markdown",
   "id": "69064dfc",
   "metadata": {},
   "source": [
    ">Random Forest also gave full accuracy"
   ]
  },
  {
   "cell_type": "markdown",
   "id": "b8012222",
   "metadata": {},
   "source": [
    ">Most of the models are giving full accuracy"
   ]
  },
  {
   "cell_type": "code",
   "execution_count": null,
   "id": "3c351a4e",
   "metadata": {},
   "outputs": [],
   "source": []
  }
 ],
 "metadata": {
  "kernelspec": {
   "display_name": "Python 3",
   "language": "python",
   "name": "python3"
  },
  "language_info": {
   "codemirror_mode": {
    "name": "ipython",
    "version": 3
   },
   "file_extension": ".py",
   "mimetype": "text/x-python",
   "name": "python",
   "nbconvert_exporter": "python",
   "pygments_lexer": "ipython3",
   "version": "3.8.8"
  }
 },
 "nbformat": 4,
 "nbformat_minor": 5
}
